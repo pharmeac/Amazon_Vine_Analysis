{
 "cells": [
  {
   "cell_type": "code",
   "execution_count": 1,
   "id": "5a2a6b0f",
   "metadata": {},
   "outputs": [],
   "source": [
    "import pandas as pd"
   ]
  },
  {
   "cell_type": "code",
   "execution_count": 2,
   "id": "2d35876d",
   "metadata": {},
   "outputs": [
    {
     "data": {
      "text/html": [
       "<div>\n",
       "<style scoped>\n",
       "    .dataframe tbody tr th:only-of-type {\n",
       "        vertical-align: middle;\n",
       "    }\n",
       "\n",
       "    .dataframe tbody tr th {\n",
       "        vertical-align: top;\n",
       "    }\n",
       "\n",
       "    .dataframe thead th {\n",
       "        text-align: right;\n",
       "    }\n",
       "</style>\n",
       "<table border=\"1\" class=\"dataframe\">\n",
       "  <thead>\n",
       "    <tr style=\"text-align: right;\">\n",
       "      <th></th>\n",
       "      <th>review_id</th>\n",
       "      <th>star_rating</th>\n",
       "      <th>helpful_votes</th>\n",
       "      <th>total_votes</th>\n",
       "      <th>vine</th>\n",
       "      <th>verified_purchase</th>\n",
       "    </tr>\n",
       "  </thead>\n",
       "  <tbody>\n",
       "    <tr>\n",
       "      <th>0</th>\n",
       "      <td>R9CO86UUJCAW5</td>\n",
       "      <td>3.0</td>\n",
       "      <td>0.0</td>\n",
       "      <td>0.0</td>\n",
       "      <td>N</td>\n",
       "      <td>Y</td>\n",
       "    </tr>\n",
       "    <tr>\n",
       "      <th>1</th>\n",
       "      <td>R3PR8X6QGVJ8B1</td>\n",
       "      <td>5.0</td>\n",
       "      <td>0.0</td>\n",
       "      <td>0.0</td>\n",
       "      <td>N</td>\n",
       "      <td>Y</td>\n",
       "    </tr>\n",
       "    <tr>\n",
       "      <th>2</th>\n",
       "      <td>R39BO2819ABUPF</td>\n",
       "      <td>4.0</td>\n",
       "      <td>0.0</td>\n",
       "      <td>0.0</td>\n",
       "      <td>N</td>\n",
       "      <td>Y</td>\n",
       "    </tr>\n",
       "    <tr>\n",
       "      <th>3</th>\n",
       "      <td>R3ADL7V6EGGEEP</td>\n",
       "      <td>4.0</td>\n",
       "      <td>0.0</td>\n",
       "      <td>0.0</td>\n",
       "      <td>N</td>\n",
       "      <td>Y</td>\n",
       "    </tr>\n",
       "    <tr>\n",
       "      <th>4</th>\n",
       "      <td>R1OXYPBPLVRMI5</td>\n",
       "      <td>5.0</td>\n",
       "      <td>0.0</td>\n",
       "      <td>0.0</td>\n",
       "      <td>N</td>\n",
       "      <td>Y</td>\n",
       "    </tr>\n",
       "  </tbody>\n",
       "</table>\n",
       "</div>"
      ],
      "text/plain": [
       "        review_id  star_rating  helpful_votes  total_votes vine  \\\n",
       "0   R9CO86UUJCAW5          3.0            0.0          0.0    N   \n",
       "1  R3PR8X6QGVJ8B1          5.0            0.0          0.0    N   \n",
       "2  R39BO2819ABUPF          4.0            0.0          0.0    N   \n",
       "3  R3ADL7V6EGGEEP          4.0            0.0          0.0    N   \n",
       "4  R1OXYPBPLVRMI5          5.0            0.0          0.0    N   \n",
       "\n",
       "  verified_purchase  \n",
       "0                 Y  \n",
       "1                 Y  \n",
       "2                 Y  \n",
       "3                 Y  \n",
       "4                 Y  "
      ]
     },
     "execution_count": 2,
     "metadata": {},
     "output_type": "execute_result"
    }
   ],
   "source": [
    "vine_df = pd.read_csv('vine_table.csv')\n",
    "vine_df.head()"
   ]
  },
  {
   "cell_type": "code",
   "execution_count": 4,
   "id": "a61f0026",
   "metadata": {},
   "outputs": [
    {
     "data": {
      "text/html": [
       "<div>\n",
       "<style scoped>\n",
       "    .dataframe tbody tr th:only-of-type {\n",
       "        vertical-align: middle;\n",
       "    }\n",
       "\n",
       "    .dataframe tbody tr th {\n",
       "        vertical-align: top;\n",
       "    }\n",
       "\n",
       "    .dataframe thead th {\n",
       "        text-align: right;\n",
       "    }\n",
       "</style>\n",
       "<table border=\"1\" class=\"dataframe\">\n",
       "  <thead>\n",
       "    <tr style=\"text-align: right;\">\n",
       "      <th></th>\n",
       "      <th>review_id</th>\n",
       "      <th>star_rating</th>\n",
       "      <th>helpful_votes</th>\n",
       "      <th>total_votes</th>\n",
       "      <th>vine</th>\n",
       "      <th>verified_purchase</th>\n",
       "    </tr>\n",
       "  </thead>\n",
       "  <tbody>\n",
       "    <tr>\n",
       "      <th>45</th>\n",
       "      <td>R11IBSD5E6HPSD</td>\n",
       "      <td>1.0</td>\n",
       "      <td>29.0</td>\n",
       "      <td>31.0</td>\n",
       "      <td>N</td>\n",
       "      <td>Y</td>\n",
       "    </tr>\n",
       "    <tr>\n",
       "      <th>180</th>\n",
       "      <td>R2KVWAYBPWK1OV</td>\n",
       "      <td>5.0</td>\n",
       "      <td>20.0</td>\n",
       "      <td>22.0</td>\n",
       "      <td>N</td>\n",
       "      <td>N</td>\n",
       "    </tr>\n",
       "    <tr>\n",
       "      <th>209</th>\n",
       "      <td>R1FLOE9E4ODIGR</td>\n",
       "      <td>5.0</td>\n",
       "      <td>34.0</td>\n",
       "      <td>38.0</td>\n",
       "      <td>N</td>\n",
       "      <td>Y</td>\n",
       "    </tr>\n",
       "    <tr>\n",
       "      <th>239</th>\n",
       "      <td>R6XTEZCSCUJ4J</td>\n",
       "      <td>5.0</td>\n",
       "      <td>20.0</td>\n",
       "      <td>23.0</td>\n",
       "      <td>N</td>\n",
       "      <td>Y</td>\n",
       "    </tr>\n",
       "    <tr>\n",
       "      <th>283</th>\n",
       "      <td>R2WVV9LQKIVMOX</td>\n",
       "      <td>5.0</td>\n",
       "      <td>23.0</td>\n",
       "      <td>23.0</td>\n",
       "      <td>N</td>\n",
       "      <td>N</td>\n",
       "    </tr>\n",
       "    <tr>\n",
       "      <th>...</th>\n",
       "      <td>...</td>\n",
       "      <td>...</td>\n",
       "      <td>...</td>\n",
       "      <td>...</td>\n",
       "      <td>...</td>\n",
       "      <td>...</td>\n",
       "    </tr>\n",
       "    <tr>\n",
       "      <th>348614</th>\n",
       "      <td>R33PHQQAV5DJ8X</td>\n",
       "      <td>5.0</td>\n",
       "      <td>98.0</td>\n",
       "      <td>100.0</td>\n",
       "      <td>N</td>\n",
       "      <td>N</td>\n",
       "    </tr>\n",
       "    <tr>\n",
       "      <th>348621</th>\n",
       "      <td>RWO8RAQ8QBXID</td>\n",
       "      <td>1.0</td>\n",
       "      <td>4.0</td>\n",
       "      <td>37.0</td>\n",
       "      <td>N</td>\n",
       "      <td>N</td>\n",
       "    </tr>\n",
       "    <tr>\n",
       "      <th>348631</th>\n",
       "      <td>R3LXSP7H4UT47G</td>\n",
       "      <td>4.0</td>\n",
       "      <td>20.0</td>\n",
       "      <td>23.0</td>\n",
       "      <td>N</td>\n",
       "      <td>N</td>\n",
       "    </tr>\n",
       "    <tr>\n",
       "      <th>348633</th>\n",
       "      <td>R168YIRN0KE3U7</td>\n",
       "      <td>5.0</td>\n",
       "      <td>18.0</td>\n",
       "      <td>30.0</td>\n",
       "      <td>N</td>\n",
       "      <td>N</td>\n",
       "    </tr>\n",
       "    <tr>\n",
       "      <th>348652</th>\n",
       "      <td>RIFGPIICFHYJ0</td>\n",
       "      <td>2.0</td>\n",
       "      <td>23.0</td>\n",
       "      <td>23.0</td>\n",
       "      <td>N</td>\n",
       "      <td>N</td>\n",
       "    </tr>\n",
       "  </tbody>\n",
       "</table>\n",
       "<p>7055 rows × 6 columns</p>\n",
       "</div>"
      ],
      "text/plain": [
       "             review_id  star_rating  helpful_votes  total_votes vine  \\\n",
       "45      R11IBSD5E6HPSD          1.0           29.0         31.0    N   \n",
       "180     R2KVWAYBPWK1OV          5.0           20.0         22.0    N   \n",
       "209     R1FLOE9E4ODIGR          5.0           34.0         38.0    N   \n",
       "239      R6XTEZCSCUJ4J          5.0           20.0         23.0    N   \n",
       "283     R2WVV9LQKIVMOX          5.0           23.0         23.0    N   \n",
       "...                ...          ...            ...          ...  ...   \n",
       "348614  R33PHQQAV5DJ8X          5.0           98.0        100.0    N   \n",
       "348621   RWO8RAQ8QBXID          1.0            4.0         37.0    N   \n",
       "348631  R3LXSP7H4UT47G          4.0           20.0         23.0    N   \n",
       "348633  R168YIRN0KE3U7          5.0           18.0         30.0    N   \n",
       "348652   RIFGPIICFHYJ0          2.0           23.0         23.0    N   \n",
       "\n",
       "       verified_purchase  \n",
       "45                     Y  \n",
       "180                    N  \n",
       "209                    Y  \n",
       "239                    Y  \n",
       "283                    N  \n",
       "...                  ...  \n",
       "348614                 N  \n",
       "348621                 N  \n",
       "348631                 N  \n",
       "348633                 N  \n",
       "348652                 N  \n",
       "\n",
       "[7055 rows x 6 columns]"
      ]
     },
     "execution_count": 4,
     "metadata": {},
     "output_type": "execute_result"
    }
   ],
   "source": [
    "# DF of rows with 20 or more total votes\n",
    "vine20_df = vine_df[vine_df['total_votes'] > 19]\n",
    "vine20_df"
   ]
  },
  {
   "cell_type": "code",
   "execution_count": 13,
   "id": "ccd30a43",
   "metadata": {},
   "outputs": [
    {
     "data": {
      "text/html": [
       "<div>\n",
       "<style scoped>\n",
       "    .dataframe tbody tr th:only-of-type {\n",
       "        vertical-align: middle;\n",
       "    }\n",
       "\n",
       "    .dataframe tbody tr th {\n",
       "        vertical-align: top;\n",
       "    }\n",
       "\n",
       "    .dataframe thead th {\n",
       "        text-align: right;\n",
       "    }\n",
       "</style>\n",
       "<table border=\"1\" class=\"dataframe\">\n",
       "  <thead>\n",
       "    <tr style=\"text-align: right;\">\n",
       "      <th></th>\n",
       "      <th>review_id</th>\n",
       "      <th>star_rating</th>\n",
       "      <th>helpful_votes</th>\n",
       "      <th>total_votes</th>\n",
       "      <th>vine</th>\n",
       "      <th>verified_purchase</th>\n",
       "    </tr>\n",
       "  </thead>\n",
       "  <tbody>\n",
       "    <tr>\n",
       "      <th>45</th>\n",
       "      <td>R11IBSD5E6HPSD</td>\n",
       "      <td>1.0</td>\n",
       "      <td>29.0</td>\n",
       "      <td>31.0</td>\n",
       "      <td>N</td>\n",
       "      <td>Y</td>\n",
       "    </tr>\n",
       "    <tr>\n",
       "      <th>180</th>\n",
       "      <td>R2KVWAYBPWK1OV</td>\n",
       "      <td>5.0</td>\n",
       "      <td>20.0</td>\n",
       "      <td>22.0</td>\n",
       "      <td>N</td>\n",
       "      <td>N</td>\n",
       "    </tr>\n",
       "    <tr>\n",
       "      <th>209</th>\n",
       "      <td>R1FLOE9E4ODIGR</td>\n",
       "      <td>5.0</td>\n",
       "      <td>34.0</td>\n",
       "      <td>38.0</td>\n",
       "      <td>N</td>\n",
       "      <td>Y</td>\n",
       "    </tr>\n",
       "    <tr>\n",
       "      <th>239</th>\n",
       "      <td>R6XTEZCSCUJ4J</td>\n",
       "      <td>5.0</td>\n",
       "      <td>20.0</td>\n",
       "      <td>23.0</td>\n",
       "      <td>N</td>\n",
       "      <td>Y</td>\n",
       "    </tr>\n",
       "    <tr>\n",
       "      <th>283</th>\n",
       "      <td>R2WVV9LQKIVMOX</td>\n",
       "      <td>5.0</td>\n",
       "      <td>23.0</td>\n",
       "      <td>23.0</td>\n",
       "      <td>N</td>\n",
       "      <td>N</td>\n",
       "    </tr>\n",
       "    <tr>\n",
       "      <th>...</th>\n",
       "      <td>...</td>\n",
       "      <td>...</td>\n",
       "      <td>...</td>\n",
       "      <td>...</td>\n",
       "      <td>...</td>\n",
       "      <td>...</td>\n",
       "    </tr>\n",
       "    <tr>\n",
       "      <th>348591</th>\n",
       "      <td>RMGU68P5LBV6X</td>\n",
       "      <td>5.0</td>\n",
       "      <td>27.0</td>\n",
       "      <td>27.0</td>\n",
       "      <td>N</td>\n",
       "      <td>N</td>\n",
       "    </tr>\n",
       "    <tr>\n",
       "      <th>348614</th>\n",
       "      <td>R33PHQQAV5DJ8X</td>\n",
       "      <td>5.0</td>\n",
       "      <td>98.0</td>\n",
       "      <td>100.0</td>\n",
       "      <td>N</td>\n",
       "      <td>N</td>\n",
       "    </tr>\n",
       "    <tr>\n",
       "      <th>348631</th>\n",
       "      <td>R3LXSP7H4UT47G</td>\n",
       "      <td>4.0</td>\n",
       "      <td>20.0</td>\n",
       "      <td>23.0</td>\n",
       "      <td>N</td>\n",
       "      <td>N</td>\n",
       "    </tr>\n",
       "    <tr>\n",
       "      <th>348633</th>\n",
       "      <td>R168YIRN0KE3U7</td>\n",
       "      <td>5.0</td>\n",
       "      <td>18.0</td>\n",
       "      <td>30.0</td>\n",
       "      <td>N</td>\n",
       "      <td>N</td>\n",
       "    </tr>\n",
       "    <tr>\n",
       "      <th>348652</th>\n",
       "      <td>RIFGPIICFHYJ0</td>\n",
       "      <td>2.0</td>\n",
       "      <td>23.0</td>\n",
       "      <td>23.0</td>\n",
       "      <td>N</td>\n",
       "      <td>N</td>\n",
       "    </tr>\n",
       "  </tbody>\n",
       "</table>\n",
       "<p>6711 rows × 6 columns</p>\n",
       "</div>"
      ],
      "text/plain": [
       "             review_id  star_rating  helpful_votes  total_votes vine  \\\n",
       "45      R11IBSD5E6HPSD          1.0           29.0         31.0    N   \n",
       "180     R2KVWAYBPWK1OV          5.0           20.0         22.0    N   \n",
       "209     R1FLOE9E4ODIGR          5.0           34.0         38.0    N   \n",
       "239      R6XTEZCSCUJ4J          5.0           20.0         23.0    N   \n",
       "283     R2WVV9LQKIVMOX          5.0           23.0         23.0    N   \n",
       "...                ...          ...            ...          ...  ...   \n",
       "348591   RMGU68P5LBV6X          5.0           27.0         27.0    N   \n",
       "348614  R33PHQQAV5DJ8X          5.0           98.0        100.0    N   \n",
       "348631  R3LXSP7H4UT47G          4.0           20.0         23.0    N   \n",
       "348633  R168YIRN0KE3U7          5.0           18.0         30.0    N   \n",
       "348652   RIFGPIICFHYJ0          2.0           23.0         23.0    N   \n",
       "\n",
       "       verified_purchase  \n",
       "45                     Y  \n",
       "180                    N  \n",
       "209                    Y  \n",
       "239                    Y  \n",
       "283                    N  \n",
       "...                  ...  \n",
       "348591                 N  \n",
       "348614                 N  \n",
       "348631                 N  \n",
       "348633                 N  \n",
       "348652                 N  \n",
       "\n",
       "[6711 rows x 6 columns]"
      ]
     },
     "execution_count": 13,
     "metadata": {},
     "output_type": "execute_result"
    }
   ],
   "source": [
    "# DF of rows where the number of helpful_votes divided by total_votes is equal to or greater than 50%.\n",
    "helpful_df = vine20_df[(vine20_df['helpful_votes'] / vine20_df['total_votes'] *100 ) > 49]\n",
    "helpful_df"
   ]
  },
  {
   "cell_type": "code",
   "execution_count": 36,
   "id": "6e061d9f",
   "metadata": {},
   "outputs": [
    {
     "data": {
      "text/plain": [
       "review_id             object\n",
       "star_rating          float64\n",
       "helpful_votes        float64\n",
       "total_votes          float64\n",
       "vine                  object\n",
       "verified_purchase     object\n",
       "dtype: object"
      ]
     },
     "execution_count": 36,
     "metadata": {},
     "output_type": "execute_result"
    }
   ],
   "source": [
    "helpful_df.dtypes"
   ]
  },
  {
   "cell_type": "code",
   "execution_count": 104,
   "id": "71e07cdc",
   "metadata": {},
   "outputs": [
    {
     "data": {
      "text/plain": [
       "review_id            21\n",
       "star_rating          21\n",
       "helpful_votes        21\n",
       "total_votes          21\n",
       "vine                 21\n",
       "verified_purchase    21\n",
       "dtype: int64"
      ]
     },
     "execution_count": 104,
     "metadata": {},
     "output_type": "execute_result"
    }
   ],
   "source": [
    "#Df where vine = Y (part of the vine program)\n",
    "vineY_df = helpful_df[helpful_df[\"vine\"] =='Y']\n",
    "vineY_df.count()"
   ]
  },
  {
   "cell_type": "code",
   "execution_count": 23,
   "id": "7b830389",
   "metadata": {},
   "outputs": [
    {
     "data": {
      "text/html": [
       "<div>\n",
       "<style scoped>\n",
       "    .dataframe tbody tr th:only-of-type {\n",
       "        vertical-align: middle;\n",
       "    }\n",
       "\n",
       "    .dataframe tbody tr th {\n",
       "        vertical-align: top;\n",
       "    }\n",
       "\n",
       "    .dataframe thead th {\n",
       "        text-align: right;\n",
       "    }\n",
       "</style>\n",
       "<table border=\"1\" class=\"dataframe\">\n",
       "  <thead>\n",
       "    <tr style=\"text-align: right;\">\n",
       "      <th></th>\n",
       "      <th>review_id</th>\n",
       "      <th>star_rating</th>\n",
       "      <th>helpful_votes</th>\n",
       "      <th>total_votes</th>\n",
       "      <th>vine</th>\n",
       "      <th>verified_purchase</th>\n",
       "    </tr>\n",
       "  </thead>\n",
       "  <tbody>\n",
       "    <tr>\n",
       "      <th>45</th>\n",
       "      <td>R11IBSD5E6HPSD</td>\n",
       "      <td>1.0</td>\n",
       "      <td>29.0</td>\n",
       "      <td>31.0</td>\n",
       "      <td>N</td>\n",
       "      <td>Y</td>\n",
       "    </tr>\n",
       "    <tr>\n",
       "      <th>180</th>\n",
       "      <td>R2KVWAYBPWK1OV</td>\n",
       "      <td>5.0</td>\n",
       "      <td>20.0</td>\n",
       "      <td>22.0</td>\n",
       "      <td>N</td>\n",
       "      <td>N</td>\n",
       "    </tr>\n",
       "    <tr>\n",
       "      <th>209</th>\n",
       "      <td>R1FLOE9E4ODIGR</td>\n",
       "      <td>5.0</td>\n",
       "      <td>34.0</td>\n",
       "      <td>38.0</td>\n",
       "      <td>N</td>\n",
       "      <td>Y</td>\n",
       "    </tr>\n",
       "    <tr>\n",
       "      <th>239</th>\n",
       "      <td>R6XTEZCSCUJ4J</td>\n",
       "      <td>5.0</td>\n",
       "      <td>20.0</td>\n",
       "      <td>23.0</td>\n",
       "      <td>N</td>\n",
       "      <td>Y</td>\n",
       "    </tr>\n",
       "    <tr>\n",
       "      <th>283</th>\n",
       "      <td>R2WVV9LQKIVMOX</td>\n",
       "      <td>5.0</td>\n",
       "      <td>23.0</td>\n",
       "      <td>23.0</td>\n",
       "      <td>N</td>\n",
       "      <td>N</td>\n",
       "    </tr>\n",
       "    <tr>\n",
       "      <th>...</th>\n",
       "      <td>...</td>\n",
       "      <td>...</td>\n",
       "      <td>...</td>\n",
       "      <td>...</td>\n",
       "      <td>...</td>\n",
       "      <td>...</td>\n",
       "    </tr>\n",
       "    <tr>\n",
       "      <th>348591</th>\n",
       "      <td>RMGU68P5LBV6X</td>\n",
       "      <td>5.0</td>\n",
       "      <td>27.0</td>\n",
       "      <td>27.0</td>\n",
       "      <td>N</td>\n",
       "      <td>N</td>\n",
       "    </tr>\n",
       "    <tr>\n",
       "      <th>348614</th>\n",
       "      <td>R33PHQQAV5DJ8X</td>\n",
       "      <td>5.0</td>\n",
       "      <td>98.0</td>\n",
       "      <td>100.0</td>\n",
       "      <td>N</td>\n",
       "      <td>N</td>\n",
       "    </tr>\n",
       "    <tr>\n",
       "      <th>348631</th>\n",
       "      <td>R3LXSP7H4UT47G</td>\n",
       "      <td>4.0</td>\n",
       "      <td>20.0</td>\n",
       "      <td>23.0</td>\n",
       "      <td>N</td>\n",
       "      <td>N</td>\n",
       "    </tr>\n",
       "    <tr>\n",
       "      <th>348633</th>\n",
       "      <td>R168YIRN0KE3U7</td>\n",
       "      <td>5.0</td>\n",
       "      <td>18.0</td>\n",
       "      <td>30.0</td>\n",
       "      <td>N</td>\n",
       "      <td>N</td>\n",
       "    </tr>\n",
       "    <tr>\n",
       "      <th>348652</th>\n",
       "      <td>RIFGPIICFHYJ0</td>\n",
       "      <td>2.0</td>\n",
       "      <td>23.0</td>\n",
       "      <td>23.0</td>\n",
       "      <td>N</td>\n",
       "      <td>N</td>\n",
       "    </tr>\n",
       "  </tbody>\n",
       "</table>\n",
       "<p>6690 rows × 6 columns</p>\n",
       "</div>"
      ],
      "text/plain": [
       "             review_id  star_rating  helpful_votes  total_votes vine  \\\n",
       "45      R11IBSD5E6HPSD          1.0           29.0         31.0    N   \n",
       "180     R2KVWAYBPWK1OV          5.0           20.0         22.0    N   \n",
       "209     R1FLOE9E4ODIGR          5.0           34.0         38.0    N   \n",
       "239      R6XTEZCSCUJ4J          5.0           20.0         23.0    N   \n",
       "283     R2WVV9LQKIVMOX          5.0           23.0         23.0    N   \n",
       "...                ...          ...            ...          ...  ...   \n",
       "348591   RMGU68P5LBV6X          5.0           27.0         27.0    N   \n",
       "348614  R33PHQQAV5DJ8X          5.0           98.0        100.0    N   \n",
       "348631  R3LXSP7H4UT47G          4.0           20.0         23.0    N   \n",
       "348633  R168YIRN0KE3U7          5.0           18.0         30.0    N   \n",
       "348652   RIFGPIICFHYJ0          2.0           23.0         23.0    N   \n",
       "\n",
       "       verified_purchase  \n",
       "45                     Y  \n",
       "180                    N  \n",
       "209                    Y  \n",
       "239                    Y  \n",
       "283                    N  \n",
       "...                  ...  \n",
       "348591                 N  \n",
       "348614                 N  \n",
       "348631                 N  \n",
       "348633                 N  \n",
       "348652                 N  \n",
       "\n",
       "[6690 rows x 6 columns]"
      ]
     },
     "execution_count": 23,
     "metadata": {},
     "output_type": "execute_result"
    }
   ],
   "source": [
    "#Df where vine = N (not part of the vine program)\n",
    "vineN_df = helpful_df[helpful_df[\"vine\"] =='N']\n",
    "vineN_df"
   ]
  },
  {
   "cell_type": "code",
   "execution_count": 32,
   "id": "dbbe669e",
   "metadata": {},
   "outputs": [
    {
     "name": "stdout",
     "output_type": "stream",
     "text": [
      "Total number of reviews: 6711\n"
     ]
    }
   ],
   "source": [
    "# Determine the total number of reviews\n",
    "n = len(pd.unique(helpful_df['review_id']))\n",
    "print(\"Total number of reviews:\", n)"
   ]
  },
  {
   "cell_type": "code",
   "execution_count": 72,
   "id": "ddfa3dea",
   "metadata": {},
   "outputs": [
    {
     "name": "stdout",
     "output_type": "stream",
     "text": [
      "Number of 5-star reviews: 3458\n"
     ]
    }
   ],
   "source": [
    "#Determie the number of 5-star reviews\n",
    "st = len(helpful_df[helpful_df['star_rating']== 5.0])\n",
    "print(\"Number of 5-star reviews:\", st)"
   ]
  },
  {
   "cell_type": "code",
   "execution_count": 93,
   "id": "76594231",
   "metadata": {},
   "outputs": [
    {
     "data": {
      "text/plain": [
       "10"
      ]
     },
     "execution_count": 93,
     "metadata": {},
     "output_type": "execute_result"
    }
   ],
   "source": [
    "# Determine the percentage of 5-star reviews for the two types of review (paid vs unpaid).\n",
    "pdst = len(vineY_df[vineY_df['star_rating']== 5.0])\n",
    "pdst"
   ]
  },
  {
   "cell_type": "code",
   "execution_count": 94,
   "id": "4a20c8fa",
   "metadata": {},
   "outputs": [
    {
     "data": {
      "text/plain": [
       "3448"
      ]
     },
     "execution_count": 94,
     "metadata": {},
     "output_type": "execute_result"
    }
   ],
   "source": [
    "npdst = len(vineN_df[vineN_df['star_rating']== 5.0])\n",
    "npdst"
   ]
  },
  {
   "cell_type": "code",
   "execution_count": 99,
   "id": "2e473d33",
   "metadata": {},
   "outputs": [
    {
     "data": {
      "text/plain": [
       "47.61904761904761"
      ]
     },
     "execution_count": 99,
     "metadata": {},
     "output_type": "execute_result"
    }
   ],
   "source": [
    "paid5 = (pdst / 21) *100\n",
    "paid5\n"
   ]
  },
  {
   "cell_type": "code",
   "execution_count": 100,
   "id": "d2f8ed99",
   "metadata": {},
   "outputs": [
    {
     "data": {
      "text/plain": [
       "51.53961136023917"
      ]
     },
     "execution_count": 100,
     "metadata": {},
     "output_type": "execute_result"
    }
   ],
   "source": [
    "unpaid5 = (npdst / 6690) *100\n",
    "unpaid5"
   ]
  },
  {
   "cell_type": "code",
   "execution_count": 101,
   "id": "6dc132bb",
   "metadata": {},
   "outputs": [
    {
     "name": "stdout",
     "output_type": "stream",
     "text": [
      "Percentage of paid 5-star reviews: 47.62\n"
     ]
    }
   ],
   "source": [
    "print(\"Percentage of paid 5-star reviews:\", round(paid5,2))"
   ]
  },
  {
   "cell_type": "code",
   "execution_count": 102,
   "id": "1585e9ce",
   "metadata": {},
   "outputs": [
    {
     "name": "stdout",
     "output_type": "stream",
     "text": [
      "Percentage of non-paid 5-star reviews: 51.54\n"
     ]
    }
   ],
   "source": [
    "print(\"Percentage of non-paid 5-star reviews:\", round(unpaid5,2))"
   ]
  },
  {
   "cell_type": "code",
   "execution_count": null,
   "id": "2b90fc12",
   "metadata": {},
   "outputs": [],
   "source": []
  }
 ],
 "metadata": {
  "kernelspec": {
   "display_name": "Python3.9Update",
   "language": "python",
   "name": "python3.9update"
  },
  "language_info": {
   "codemirror_mode": {
    "name": "ipython",
    "version": 3
   },
   "file_extension": ".py",
   "mimetype": "text/x-python",
   "name": "python",
   "nbconvert_exporter": "python",
   "pygments_lexer": "ipython3",
   "version": "3.9.12"
  }
 },
 "nbformat": 4,
 "nbformat_minor": 5
}
